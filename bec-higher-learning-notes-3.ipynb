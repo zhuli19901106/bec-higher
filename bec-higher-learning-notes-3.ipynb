{
 "cells": [
  {
   "cell_type": "markdown",
   "metadata": {},
   "source": [
    "Disclaimer: this is my own answer, not the standard version."
   ]
  },
  {
   "cell_type": "markdown",
   "metadata": {},
   "source": [
    "# 3.1 Communication at work"
   ]
  },
  {
   "cell_type": "markdown",
   "metadata": {},
   "source": [
    "## Business communication"
   ]
  },
  {
   "cell_type": "markdown",
   "metadata": {},
   "source": [
    "### 1\n",
    "\n",
    "Thoughts can be free within, but words can only understood through proper communication.\n",
    "\n",
    "That's why you have to think of communication as a skill."
   ]
  },
  {
   "cell_type": "markdown",
   "metadata": {},
   "source": [
    "### 2\n",
    "\n",
    "0. post\n",
    "1. do\n",
    "1. ~~put out~~ put up\n",
    "1. make\n",
    "1. tell\n",
    "1. carry out\n",
    "1. run\n",
    "1. put out\n",
    "1. ~~circulate~~ publish\n",
    "1. make"
   ]
  },
  {
   "cell_type": "markdown",
   "metadata": {},
   "source": [
    "### 3\n",
    "\n",
    "I've recorded my opinion on these five options.\n",
    "\n",
    "Personally, I think **writing an email** should be the easiest, while **giving a full presentation** can be rather challenging.\n",
    "\n",
    "Files:\n",
    "* bec-higher-speaking-3-3.1-3.mp3"
   ]
  },
  {
   "cell_type": "markdown",
   "metadata": {},
   "source": [
    "### 4\n",
    "\n",
    "I've recorded my opinion on these three questions.\n",
    "\n",
    "I find myself quite prone to diverging when answering questions, also faltering when I get nervous.\n",
    "\n",
    "Files:\n",
    "* bec-higher-speaking-3-3.1-4.mp3"
   ]
  },
  {
   "cell_type": "markdown",
   "metadata": {},
   "source": [
    "### 5\n",
    "\n",
    "1. E\n",
    "1. D\n",
    "1. E\n",
    "1. B\n",
    "1. C\n",
    "1. C\n",
    "1. B\n",
    "1. A\n",
    "\n",
    "Well done."
   ]
  },
  {
   "cell_type": "markdown",
   "metadata": {},
   "source": [
    "## Communication mediums"
   ]
  },
  {
   "cell_type": "markdown",
   "metadata": {},
   "source": [
    "### 1\n",
    "\n",
    "I've recorded my opinion on each of the communication mediums.\n",
    "\n",
    "Files:\n",
    "* bec-higher-speaking-3-3.1-1-1.mp3"
   ]
  },
  {
   "cell_type": "markdown",
   "metadata": {},
   "source": [
    "### 2\n",
    "\n",
    "0. Sending a formal letter.\n",
    "* Make a formal phone call, or talk in person.\n",
    "* Make an announcement on the social network.\n",
    "* Send a formal email.\n",
    "* Broadcast an email announcement.\n",
    "* Put publicity on the social network.\n",
    "* Put recruiment information on recruitment websites.\n",
    "* Broadcast a subscription ads email.\n",
    "* Send an IM message.\n",
    "* Hold a video conference."
   ]
  },
  {
   "cell_type": "markdown",
   "metadata": {},
   "source": [
    "### 3\n",
    "\n",
    "0. reply\n",
    "* request\n",
    "* reminder\n",
    "* proposal\n",
    "* announcement\n",
    "* apology\n",
    "* demand"
   ]
  },
  {
   "cell_type": "markdown",
   "metadata": {},
   "source": [
    "## Verbal patterns"
   ]
  },
  {
   "cell_type": "markdown",
   "metadata": {},
   "source": [
    "### 4\n",
    "\n",
    "0. for giving\n",
    "* to work\n",
    "* about creating\n",
    "* to join\n",
    "* meeting\n",
    "* to give\n",
    "* ~~to~~\n",
    "* about having\n",
    "* of keeping\n",
    "* to give\n",
    "* that there would be\n",
    "* for trying\n",
    "* to pay"
   ]
  },
  {
   "cell_type": "markdown",
   "metadata": {},
   "source": [
    "### 5\n",
    "\n",
    "persuade + someone + to do:\n",
    "* urge\n",
    "\n",
    "promise + to do:\n",
    "* threaten\n",
    "* undertake\n",
    "\n",
    "admit + doing:\n",
    "* deny\n",
    "\n",
    "criticise someone + for doing:\n",
    "* praise\n",
    "* blame\n",
    "\n",
    "suggest + doing / suggest that someone should do:\n",
    "* propose\n",
    "* recommend\n",
    "* convince"
   ]
  },
  {
   "cell_type": "markdown",
   "metadata": {},
   "source": [
    "### 6\n",
    "\n",
    "0. to take us to court\n",
    "* writing\n",
    "* about the food\n",
    "* about all these pointless questions\n",
    "* to grant her full repayment\n",
    "* to deliver the report\n",
    "* to finish the program\n",
    "* of declaring false functionalities"
   ]
  },
  {
   "cell_type": "markdown",
   "metadata": {},
   "source": [
    "### 1\n",
    "\n",
    "I've recorded one of my presentation lecture experiences.\n",
    "\n",
    "Files:\n",
    "* bec-higher-speaking-3-3.1-1-2.mp3"
   ]
  },
  {
   "cell_type": "markdown",
   "metadata": {},
   "source": [
    "## Dealing with problems"
   ]
  },
  {
   "cell_type": "markdown",
   "metadata": {},
   "source": [
    "### 2\n",
    "\n",
    "Although the terms coin in the charter can be consider some sort of \"publicized SLAs\", it's acceptable and good to hear.\n",
    "\n",
    "But always remember the rule, if it's too good to be true, it's not true."
   ]
  },
  {
   "cell_type": "markdown",
   "metadata": {},
   "source": [
    "### 3\n",
    "\n",
    "Q1\n",
    "* Teller options misleading and useless.\n",
    "* Waiting all day for line repair.\n",
    "* Operator promised to call back but didn't.\n",
    "\n",
    "Q2\n",
    "* Put through to engineer, but unavailable until 6 pm.\n",
    "* Divert office call to mobile phone.\n",
    "\n",
    "Q3\n",
    "* Customer will to go to the cinema tonight, engineer service denied.\n",
    "* Reroute office phone calls to mobile, solution accepted.\n",
    "\n",
    "Customer phone number:\n",
    "* 01889245624"
   ]
  },
  {
   "cell_type": "markdown",
   "metadata": {},
   "source": [
    "### 4\n",
    "\n",
    "1. do apologise for\n",
    "1. will look into it\n",
    "1. come straight back\n",
    "1. Will that be\n",
    "1. quite, that case\n",
    "1. will see, bear with me\n",
    "1. acceptable to you\n",
    "1. would like to"
   ]
  },
  {
   "cell_type": "markdown",
   "metadata": {},
   "source": [
    "### 5\n",
    "\n",
    "This exercise requires a partner. I'll do it later."
   ]
  },
  {
   "cell_type": "markdown",
   "metadata": {},
   "source": [
    "# 3.2 Email exchange"
   ]
  },
  {
   "cell_type": "markdown",
   "metadata": {},
   "source": [
    "## Formal and informal emails"
   ]
  },
  {
   "cell_type": "markdown",
   "metadata": {},
   "source": [
    "### 1\n",
    "\n",
    "Formal:\n",
    "* please\n",
    "* no n't\n",
    "* subjunctive mood\n",
    "* wordy, mouthful and detailed\n",
    "\n",
    "Informal:\n",
    "* straight to the point\n",
    "* n't\n",
    "* imperative\n",
    "* abbreviation and shorthand"
   ]
  },
  {
   "cell_type": "markdown",
   "metadata": {},
   "source": [
    "### 2\n",
    "\n",
    "1. I will\n",
    "1. I would\n",
    "1. I will not\n",
    "1. I cannot, I am\n",
    "1. It's been, I've\n",
    "1. I would've\n",
    "1. I shouldn't\n",
    "1. You mustn't"
   ]
  },
  {
   "cell_type": "markdown",
   "metadata": {},
   "source": [
    "### 3\n",
    "\n",
    "1. however - but\n",
    "1. nevertheless - ~~anyway~~ still\n",
    "1. consequently - so\n",
    "1. owing to - because of\n",
    "1. moreover - what's more\n",
    "1. following - after\n",
    "1. since - because\n",
    "1. besides - ~~still~~ anyway"
   ]
  },
  {
   "cell_type": "markdown",
   "metadata": {},
   "source": [
    "### 4\n",
    "\n",
    "**Dear Mr Harris**,\n",
    "\n",
    "It was nice talking to you on the phone. I am now sending you a draft contract via attachment.\n",
    "\n",
    "I would be grateful if you could read it carefully. If the terms are in agreement with your expectations, could you sign it and post it back to me?\n",
    "\n",
    "Strictly speaking, the deadline for the special offer we talked about is supposed to be tomorrow, but we will keep it open for you until the end of the week.\n",
    "\n",
    "Please don't hesitate to contact me if you have any further questions.\n",
    "\n",
    "Yours sincerely,<br>\n",
    "**Laura**."
   ]
  },
  {
   "cell_type": "markdown",
   "metadata": {},
   "source": [
    "### 5\n",
    "\n",
    "Dear Mr/Ms Whatever,\n",
    "\n",
    "It is with an uneasy feeling that I am writing this email to you, to inform you that we are shocked to see a sharp decline in the quality of service that your receptionists and doormen are providing of late.\n",
    "\n",
    "Our two companies have been partnering for a long time, providing high quality of services that help each other.\n",
    "\n",
    "Recently we have received multiple complaints from customers about rude treatment, slow service or even misdirection.\n",
    "\n",
    "Such circumstances ought to be tackled with immediately, or I'm afraid we will not be able to keep the good partnership like we used to have.\n",
    "\n",
    "Looking forward to your reply, and effective measures from your agency.\n",
    "\n",
    "Yours sincerely,\n",
    "Whoever."
   ]
  },
  {
   "cell_type": "markdown",
   "metadata": {},
   "source": [
    "### 6\n",
    "\n",
    "Reply? Forget about it."
   ]
  },
  {
   "cell_type": "markdown",
   "metadata": {},
   "source": [
    "# 3.3 Listening Test: Introduction and Part One"
   ]
  },
  {
   "cell_type": "markdown",
   "metadata": {},
   "source": [
    "## Prediction"
   ]
  },
  {
   "cell_type": "markdown",
   "metadata": {},
   "source": [
    "### 1\n",
    "\n",
    "1. 1990\n",
    "1. Education\n",
    "1. applications\n",
    "1. a doctorate degree\n",
    "1. solve various types of problems\n",
    "1. on our official website\n",
    "1. July 5th"
   ]
  },
  {
   "cell_type": "markdown",
   "metadata": {},
   "source": [
    "### 2\n",
    "\n",
    "The Coaching Academy\n",
    "1. 2004\n",
    "1. government funding\n",
    "1. professionalise an industry\n",
    "1. day seminars\n",
    "\n",
    "What is coaching?\n",
    "5. personal life\n",
    "1. achieve their goals\n",
    "1. forward\n",
    "1. past events and mistakes\n",
    "\n",
    "Qualification and rewards\n",
    "9. job satisfaction\n",
    "1. 70 pounds per hour\n",
    "1. considerable experience\n",
    "1. by text message"
   ]
  }
 ],
 "metadata": {
  "kernelspec": {
   "display_name": "Python 3",
   "language": "python",
   "name": "python3"
  },
  "language_info": {
   "codemirror_mode": {
    "name": "ipython",
    "version": 3
   },
   "file_extension": ".py",
   "mimetype": "text/x-python",
   "name": "python",
   "nbconvert_exporter": "python",
   "pygments_lexer": "ipython3",
   "version": "3.6.3"
  }
 },
 "nbformat": 4,
 "nbformat_minor": 2
}
