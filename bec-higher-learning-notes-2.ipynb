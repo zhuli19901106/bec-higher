{
 "cells": [
  {
   "cell_type": "markdown",
   "metadata": {},
   "source": [
    "Disclaimer: this is my own answer, not the standard version."
   ]
  },
  {
   "cell_type": "markdown",
   "metadata": {},
   "source": [
    "# 2.1 Growing the company"
   ]
  },
  {
   "cell_type": "markdown",
   "metadata": {},
   "source": [
    "## Parts of a company"
   ]
  },
  {
   "cell_type": "markdown",
   "metadata": {},
   "source": [
    "### 1\n",
    "\n",
    "From the business perspective, I agree with it."
   ]
  },
  {
   "cell_type": "markdown",
   "metadata": {},
   "source": [
    "### 2\n",
    "\n",
    "* subsidiary - UK\n",
    "* headquarters - La Défense\n",
    "* sales offices - Frankfurt, Milan, Madrid\n",
    "* warehouses - Compiègne\n",
    "* R&D division - St Denis\n",
    "* main plant - Lille"
   ]
  },
  {
   "cell_type": "markdown",
   "metadata": {},
   "source": [
    "### 3\n",
    "\n",
    "Sales office is where the deals are negotiated.\n",
    "Subsidiary is a subordinate division of the corporation.\n",
    "\n",
    "A warehouse is where the goods are stored.\n",
    "A plant is where the goods are manufactured.\n",
    "\n",
    "Headquarter is the main location where a company is based.\n",
    "A division is a branch of the company."
   ]
  },
  {
   "cell_type": "markdown",
   "metadata": {},
   "source": [
    "## Growth strategy"
   ]
  },
  {
   "cell_type": "markdown",
   "metadata": {},
   "source": [
    "### 4\n",
    "\n",
    "1. acquired - take over\n",
    "1. grow - expand\n",
    "1. created - set up\n",
    "1. be listed on the Stock Exchange - go public\n",
    "1. went bankrupt - go out of business\n",
    "1. restructured - reorganise\n",
    "1. laid off - make redundant\n",
    "1. close - shut down\n",
    "1. divested - sell off\n",
    "1. diversifying - branch out"
   ]
  },
  {
   "cell_type": "markdown",
   "metadata": {},
   "source": [
    "### 5\n",
    "\n",
    "Those taking over is in vantage position, while those taking a merger is in a relatively evened scale.\n",
    "\n",
    "Organic growth emphasizes internal growth of a company by increasing sales, revenue and profit, whereas non-organic growth includes M&A and takeover."
   ]
  },
  {
   "cell_type": "markdown",
   "metadata": {},
   "source": [
    "### 6\n",
    "\n",
    "1. E\n",
    "1. G\n",
    "1. A\n",
    "1. B\n",
    "1. H\n",
    "1. D"
   ]
  },
  {
   "cell_type": "markdown",
   "metadata": {},
   "source": [
    "### 7\n",
    "\n",
    "1. Because the company has its fiduciary responsibility for its investors and shareholders. Also because the company has to survive in the competitive business world by developing and expanding.\n",
    "\n",
    "2.\n",
    "\n",
    "* Organic growth\n",
    "    * Pros\n",
    "        * Less risky and more steady.\n",
    "        * Suitable for smaller business.\n",
    "    * Cons\n",
    "        * Requires time and patience.\n",
    "        * Doesn't necessarily save cost.\n",
    "* Non-organic growth\n",
    "    * Pros\n",
    "        * Allows for fast entrance into new market.\n",
    "    * Cons\n",
    "        * Costly and risky."
   ]
  },
  {
   "cell_type": "markdown",
   "metadata": {},
   "source": [
    "## Past tenses"
   ]
  },
  {
   "cell_type": "markdown",
   "metadata": {},
   "source": [
    "### 1\n",
    "\n",
    "1. pc\n",
    "1. ps\n",
    "1. prp\n",
    "1. pap\n",
    "1. u\n",
    "1. ps"
   ]
  },
  {
   "cell_type": "markdown",
   "metadata": {},
   "source": [
    "### 2\n",
    "\n",
    "1. come - came\n",
    "1. work - ~~worked~~ was working\n",
    "1. be - was\n",
    "1. return - returned\n",
    "1. hack - ~~hacked~~ used to hack\n",
    "1. hack - ~~hacked~~ had hacked\n",
    "1. receive - received\n",
    "1. open - opened\n",
    "1. be - was\n",
    "1. want - wanted\n",
    "1. see - saw\n",
    "1. be - was\n",
    "1. employ - has employed\n",
    "1. help - have helped\n",
    "1. take - was taking\n",
    "1. give - gave"
   ]
  },
  {
   "cell_type": "markdown",
   "metadata": {},
   "source": [
    "## Writing about the past"
   ]
  },
  {
   "cell_type": "markdown",
   "metadata": {},
   "source": [
    "### 3\n",
    "\n",
    "In year 2015, I was about to begin my study in Computer Science as a Master candidate in Tsinghua University.\n",
    "If I tell you the struggle I've been through to get in was hard, it changed nothing about me.\n",
    "\n",
    "By then I had no answer for myself on what kind of life I was about to, or wanted to lead.\n",
    "One year later, when I decided that I must be a musician, I chose to quit.\n",
    "\n",
    "Life back then was again upside down and disgraced, full of blame and questioning from outside.\n",
    "The key difference this time, is that it's my way, my struggle.\n",
    "\n",
    "I knew every bit of the story because I am the writer of my own story.\n",
    "Compared to the misery of being pushed around all your life, hardship in life is nothing.\n",
    "\n",
    "Though I'm not yet a qualified musician, I'm gonna be one someday.\n",
    "Whatever I am, wherever I go, I'm not alone.\n",
    "With melody and chant, I live free."
   ]
  },
  {
   "cell_type": "markdown",
   "metadata": {},
   "source": [
    "## Mergers and acquisitions"
   ]
  },
  {
   "cell_type": "markdown",
   "metadata": {},
   "source": [
    "### 4\n",
    "\n",
    "|--|Opportunities|Threats|\n",
    "|--|-------------|-------|\n",
    "|Employees|transfer to new posts|get laid off|\n",
    "|Shareholders|get new shares|repurchased and sold cheap|\n",
    "|Customers|better products|worst products or brand destruction|\n",
    "|Suppliers|new supply chains|deals closed|"
   ]
  },
  {
   "cell_type": "markdown",
   "metadata": {},
   "source": [
    "### 5\n",
    "\n",
    "Q1: Does Jeff Weiner think the takeover will benefit the company and its employees?\n",
    "\n",
    "A1: Although this letter was written very equivocally, I can still smell the **confusion and uncertainty** behind. Still Jeff Weiner suggested that LinkedIn will thrive under the wings of Microsoft, who can shield them from risks. **Yes, that's a positive attitude.**\n",
    "\n",
    "Q2: In what ways will the company stil have control over its own future, according to Weiner?\n",
    "\n",
    "A2: By staying true to the belief when LinkedIn was founded, by keeping delivering value to the market and to the customers. **By saying a lot without saying anything.**"
   ]
  },
  {
   "cell_type": "markdown",
   "metadata": {},
   "source": [
    "## The LinkedIn takeover"
   ]
  },
  {
   "cell_type": "markdown",
   "metadata": {},
   "source": [
    "### 1\n",
    "\n",
    "The LinkedIn employee was very optimistic about Microsoft's ability to inject vigor into LinkedIn, because she trusts the professional management skill of Microsoft executives.\n",
    "\n",
    "The analyst, however, was rather skeptical of the deal, but deemed the price of M&A OK.\n",
    "\n",
    "The last part where they talked about the economic value of real user data was not quite relevant to the question."
   ]
  },
  {
   "cell_type": "markdown",
   "metadata": {},
   "source": [
    "### 2\n",
    "\n",
    "1. B\n",
    "1. A\n",
    "1. ~~B~~ C\n",
    "1. B\n",
    "1. B\n",
    "1. ~~C~~ A"
   ]
  },
  {
   "cell_type": "markdown",
   "metadata": {},
   "source": [
    "## A press release"
   ]
  },
  {
   "cell_type": "markdown",
   "metadata": {},
   "source": [
    "### 3\n",
    "\n",
    "Last month Insure Co was pleased to announce the acquisition of ABC Insurance. The new company brings together two leading insurance providers to form the world's third largest insurance company ...\n",
    "\n",
    "We struck deal on this acquisition mainly for the benefit of enhancing our combined competitiveness in the global insurance market. An optimized staffing structure counts as another mutual gain for both sides.\n",
    "\n",
    "We are sincerely grateful for all those who have been devoting their time and effort to the growing of both companies. This is a moment when we join hands for a brighter future, together.\n",
    "\n",
    "For those who are concerned about the possibility of job cuts and budget restructuring. We assure you that we are looking at a more robust cash flow and growing business.\n",
    "\n",
    "This concludes our press release.\n",
    "\n",
    "Ladies and gentlemen, thank you for your attendance."
   ]
  },
  {
   "cell_type": "markdown",
   "metadata": {},
   "source": [
    "### 4\n",
    "\n",
    "1. stock brokers\n",
    "1. restaurants\n",
    "1. banks\n",
    "1. oil companies"
   ]
  },
  {
   "cell_type": "markdown",
   "metadata": {},
   "source": [
    "### 5\n",
    "\n",
    "1. Several hundred people.\n",
    "1. Artificial intelligence and financial technology.\n",
    "1. Like a regular tech firm, but rather R&D focused.\n",
    "1. Work hard, play hard."
   ]
  },
  {
   "cell_type": "markdown",
   "metadata": {},
   "source": [
    "## An employee survey"
   ]
  },
  {
   "cell_type": "markdown",
   "metadata": {},
   "source": [
    "### 6\n",
    "\n",
    "1. B\n",
    "1. C\n",
    "1. L\n",
    "1. A\n",
    "1. F\n",
    "1. H"
   ]
  },
  {
   "cell_type": "markdown",
   "metadata": {},
   "source": [
    "### 7\n",
    "\n",
    "I prefer the competitive and cutting-edge type, because it provides me with challenges and prospects.\n",
    "\n",
    "Challenge yourself with more possibility into the future."
   ]
  },
  {
   "cell_type": "markdown",
   "metadata": {},
   "source": [
    "# 2.2 Presenting facts"
   ]
  },
  {
   "cell_type": "markdown",
   "metadata": {},
   "source": [
    "## Falling shares"
   ]
  },
  {
   "cell_type": "markdown",
   "metadata": {},
   "source": [
    "### 1\n",
    "\n",
    "Kaptoy is a company selling toys for kids.\n",
    "\n",
    "Kaptoy has seen a fell in stock price today by 2% due to negative prospects by the market on its sales and profits in this quarter."
   ]
  },
  {
   "cell_type": "markdown",
   "metadata": {},
   "source": [
    "### 2\n",
    "\n",
    "1. 20% growth by end of year.\n",
    "1. Impact on share price imminent.\n",
    "1. Trading not quite a solution, come up with possible M&A targets.\n",
    "1. Meeting in 1 month to hear proposals for solutions. (You missed the details of target companies for acquisition.)"
   ]
  },
  {
   "cell_type": "markdown",
   "metadata": {},
   "source": [
    "### 3\n",
    "\n",
    "I've **recorded one piece of narration** for student A and student B each.\n",
    "\n",
    "Well, it turned out that oral exercises weren't so easy as I supposed.\n",
    "\n",
    "Files:\n",
    "* bec-higher-module-2-2.2-3-student-a.mp3\n",
    "* bec-higher-module-2-2.2-3-student-b.mp3"
   ]
  },
  {
   "cell_type": "markdown",
   "metadata": {},
   "source": [
    "### 4\n",
    "\n",
    "Despite the good prospects of Wheels Times 2, I think **Bustwells** would be a better target for acquisition.\n",
    "\n",
    "Firstly, its **business area is more related** to that of Kaptoys. Furthermore, its **channels of retailing and wholesales** will be valuable assets for Kaptoys, espacially the department stores.\n",
    "\n",
    "Last but not least, it's experiencing difficulty, making a good time to strike a **bargain deal** for M&A."
   ]
  },
  {
   "cell_type": "markdown",
   "metadata": {},
   "source": [
    "# 2.3 Speaking Test: Introduction and Part One "
   ]
  },
  {
   "cell_type": "markdown",
   "metadata": {},
   "source": [
    "## Talking about yourself and your work"
   ]
  },
  {
   "cell_type": "markdown",
   "metadata": {},
   "source": [
    "### 1\n",
    "\n",
    "1. H\n",
    "1. D\n",
    "1. B\n",
    "1. C\n",
    "1. E\n",
    "1. A\n",
    "1. F\n",
    "1. G"
   ]
  },
  {
   "cell_type": "markdown",
   "metadata": {},
   "source": [
    "## Expressing opinions"
   ]
  },
  {
   "cell_type": "markdown",
   "metadata": {},
   "source": [
    "### 2\n",
    "\n",
    "I've recorded my answers for all 3 questions.\n",
    "\n",
    "Files:\n",
    "* bec-higher-module-2-2.3-2.mp3"
   ]
  },
  {
   "cell_type": "markdown",
   "metadata": {},
   "source": [
    "### 3\n",
    "\n",
    "I've recorded my answers for all 4 scenarios.\n",
    "\n",
    "Files:\n",
    "* bec-higher-module-2-2.3-3.mp3"
   ]
  }
 ],
 "metadata": {
  "kernelspec": {
   "display_name": "Python 3",
   "language": "python",
   "name": "python3"
  },
  "language_info": {
   "codemirror_mode": {
    "name": "ipython",
    "version": 3
   },
   "file_extension": ".py",
   "mimetype": "text/x-python",
   "name": "python",
   "nbconvert_exporter": "python",
   "pygments_lexer": "ipython3",
   "version": "3.6.3"
  }
 },
 "nbformat": 4,
 "nbformat_minor": 2
}
