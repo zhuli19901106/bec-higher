{
 "cells": [
  {
   "cell_type": "markdown",
   "metadata": {},
   "source": [
    "Disclaimer: this is my own answer, not the standard version."
   ]
  },
  {
   "cell_type": "markdown",
   "metadata": {},
   "source": [
    "# 1.1 The gig economy"
   ]
  },
  {
   "cell_type": "markdown",
   "metadata": {},
   "source": [
    "### Describing working life"
   ]
  },
  {
   "cell_type": "markdown",
   "metadata": {},
   "source": [
    "### 1\n",
    "\n",
    "1. Greedy for efficiency.\n",
    "1. You don't have to live long. Make a difference and leave your story to the world you love."
   ]
  },
  {
   "cell_type": "markdown",
   "metadata": {},
   "source": [
    "### 2\n",
    "\n",
    "1. 4-7, prefereably 4.\n",
    "1. Depends. Freedom is relative and takes it toll.\n",
    "1. Hopefully more, because we both know it's not gonna happen.\n",
    "1. 65\\. Not too soon, not too late."
   ]
  },
  {
   "cell_type": "markdown",
   "metadata": {},
   "source": [
    "### 3\n",
    "\n",
    "1. retire\n",
    "1. applied\n",
    "1. reward\n",
    "1. laid off\n",
    "1. trained\n",
    "1. leave\n",
    "1. recruits\n",
    "1. flexible\n",
    "1. part-time\n",
    "1. day off"
   ]
  },
  {
   "cell_type": "markdown",
   "metadata": {},
   "source": [
    "### 4\n",
    "\n",
    "Forget about it."
   ]
  },
  {
   "cell_type": "markdown",
   "metadata": {},
   "source": [
    "### 5\n",
    "\n",
    "1. employment\n",
    "1. aaplication\n",
    "1. retirement\n",
    "1. resignation\n",
    "1. training\n",
    "1. recruitment\n",
    "1. competition\n",
    "1. choice\n",
    "1. payment\n",
    "1. reward"
   ]
  },
  {
   "cell_type": "markdown",
   "metadata": {},
   "source": [
    "## Working for yourself"
   ]
  },
  {
   "cell_type": "markdown",
   "metadata": {},
   "source": [
    "### 6\n",
    "\n",
    "Pros\n",
    "1. free time, flexible pace.\n",
    "1. More choice, more fun.\n",
    "\n",
    "Cons\n",
    "1. More need for self-discipline.\n",
    "1. More risky."
   ]
  },
  {
   "cell_type": "markdown",
   "metadata": {},
   "source": [
    "### 7\n",
    "\n",
    "1. Labor forces are more abundant and flexible to recruit. Also this reduces the time and financial cost of training.\n",
    "1. The Internet economy created a whole lot of freelance job posts. Freelancers can decide when, where and what for their work.\n",
    "1. Primarily it's the joy of independence that attracts young people. Sometimes they have to work freelance because they can't find enough full-time jobs in their related professions."
   ]
  },
  {
   "cell_type": "markdown",
   "metadata": {},
   "source": [
    "### 8\n",
    "\n",
    "Yes, I do.\n",
    "\n",
    "I believe the economy is better off with more liquidity and a more balanced allocation of money and labor resources.\n",
    "\n",
    "The booming of freelance economy does exactly that, injecting vigor into the labor market."
   ]
  },
  {
   "cell_type": "markdown",
   "metadata": {},
   "source": [
    "### 9\n",
    "\n",
    "1. **global phenomenon**: an event or trend that arouses international attention.\n",
    "1. **costly and time-consuming**: takes a lot of money and time.\n",
    "1. **counterparts**: equivalent ones.\n",
    "1. **the competition is too fierce**: too many people fighting for a winning position.\n",
    "1. **your next gig**: your next freelance job.\n",
    "1. **by disposition**: by nature, inherently."
   ]
  },
  {
   "cell_type": "markdown",
   "metadata": {},
   "source": [
    "## Gerunds and infinitives"
   ]
  },
  {
   "cell_type": "markdown",
   "metadata": {},
   "source": [
    "### 1\n",
    "\n",
    "|+gerund(-ing)|+to+infinitive(to do)|\n",
    "|-------------|---------------------|\n",
    "|be good at|plan/intend/aim|\n",
    "|be worth|fail|\n",
    "|have trouble/difficulty|be reluctant|\n",
    "|succeed in|hope/expect|\n",
    "|think about/consider|manage|\n",
    "|enjoy|decide|\n",
    "|avoid|have|\n",
    "|involve|be willing/prepared|\n",
    "|be used to/accustomed to|__|"
   ]
  },
  {
   "cell_type": "markdown",
   "metadata": {},
   "source": [
    "### 2\n",
    "\n",
    "succeed in - fail\n",
    "\n",
    "Because the former is with gerunds, whereas the latter is with infinitives."
   ]
  },
  {
   "cell_type": "markdown",
   "metadata": {},
   "source": [
    "### 3\n",
    "\n",
    "1. to stay that way.\n",
    "1. sleeping.\n",
    "1. preparing the FAQs beforehand.\n",
    "1. writing codes.\n",
    "1. getting the right accent.\n",
    "1. to get everything done.\n",
    "1. finding me a girlfriend.\n",
    "1. to devote more time to work.\n",
    "1. the working environment.\n",
    "1. to keep their promises."
   ]
  },
  {
   "cell_type": "markdown",
   "metadata": {},
   "source": [
    "### 4\n",
    "\n",
    "Yeah, why would I do that?"
   ]
  },
  {
   "cell_type": "markdown",
   "metadata": {},
   "source": [
    "## The future of human resources"
   ]
  },
  {
   "cell_type": "markdown",
   "metadata": {},
   "source": [
    "### 5\n",
    "\n",
    "Part 1\n",
    "1. E\n",
    "1. F\n",
    "1. ~~C~~ B\n",
    "1. G\n",
    "1. A\n",
    "\n",
    "Part 2\n",
    "6. A\n",
    "1. B\n",
    "1. D\n",
    "1. E\n",
    "1. G"
   ]
  },
  {
   "cell_type": "markdown",
   "metadata": {},
   "source": [
    "### 6\n",
    "\n",
    "From top to bottom\n",
    "* career prospects\n",
    "* pay\n",
    "* working environment\n",
    "* flexible hour\n",
    "* retirement\n",
    "* training"
   ]
  },
  {
   "cell_type": "markdown",
   "metadata": {},
   "source": [
    "## CVs and personal summaries"
   ]
  },
  {
   "cell_type": "markdown",
   "metadata": {},
   "source": [
    "### 1\n",
    "\n",
    "1. employee\n",
    "1. applicant/candidate\n",
    "1. interviewee\n",
    "1. jobseeker\n",
    "1. participant\n",
    "1. graduate"
   ]
  },
  {
   "cell_type": "markdown",
   "metadata": {},
   "source": [
    "### 2\n",
    "\n",
    "I would hire the second candidate, since consulting firm needs people with expertise and experience, especially what we call \"business sense\".\n",
    "\n",
    "The second candidate will serve better for a think tank role."
   ]
  },
  {
   "cell_type": "markdown",
   "metadata": {},
   "source": [
    "### 3\n",
    "\n",
    "1, 2, 3, 4, 5, 9, 10, 11, 12, 13, 14, 15, 16, 17, 18"
   ]
  },
  {
   "cell_type": "markdown",
   "metadata": {},
   "source": [
    "### 4\n",
    "\n",
    "Because recruiters receive too many CVs everyday, more than they can digest, with most of the applicants not really paying attention to the CVs they are sending.\n",
    "\n",
    "The only sensible way for recruiters to handle this, is to remember some basic rubrics and skim through the applications really fast."
   ]
  },
  {
   "cell_type": "markdown",
   "metadata": {},
   "source": [
    "### 5\n",
    "\n",
    "1. will\n",
    "1. like\n",
    "1. templates\n",
    "1. the\n",
    "1. what\n",
    "1. ~~for~~ to\n",
    "1. but\n",
    "1. be"
   ]
  },
  {
   "cell_type": "markdown",
   "metadata": {},
   "source": [
    "### 6\n",
    "\n",
    "Yeah, why not?"
   ]
  },
  {
   "cell_type": "markdown",
   "metadata": {},
   "source": [
    "# 1.2 Asking and answering questions"
   ]
  },
  {
   "cell_type": "markdown",
   "metadata": {},
   "source": [
    "## An environmental accident"
   ]
  },
  {
   "cell_type": "markdown",
   "metadata": {},
   "source": [
    "### 1\n",
    "\n",
    "1. A series of incidents.\n",
    "1. 2.\n",
    "1. No, he was rather embarrassed, or shall we say disgraced."
   ]
  },
  {
   "cell_type": "markdown",
   "metadata": {},
   "source": [
    "### 2\n",
    "\n",
    "1. Can you tell me\n",
    "1. is it\n",
    "1. what are you intending\n",
    "1. Do you think\n",
    "1. isn't it"
   ]
  },
  {
   "cell_type": "markdown",
   "metadata": {},
   "source": [
    "### 3\n",
    "\n",
    "As you wish."
   ]
  },
  {
   "cell_type": "markdown",
   "metadata": {},
   "source": [
    "### 4\n",
    "\n",
    "1. where you have worked before\n",
    "1. you are an ambitious person\n",
    "1. you have gone as far as you can in your present job\n",
    "1. who our main customers are"
   ]
  },
  {
   "cell_type": "markdown",
   "metadata": {},
   "source": [
    "### 5\n",
    "\n",
    "1. You are married, aren't you?\n",
    "1. You can't start tomorrow, can you?\n",
    "1. You have only worked for smaller companies, haven't you?\n",
    "1. You managed to find our offices easily, didn't you?\n",
    "1. This is your first real job, isn't it?\n",
    "1. You would be able to work part-time, wouldn't you?"
   ]
  },
  {
   "cell_type": "markdown",
   "metadata": {},
   "source": [
    "## A job interview"
   ]
  },
  {
   "cell_type": "markdown",
   "metadata": {},
   "source": [
    "### 6\n",
    "\n",
    "1. What job?\n",
    "1. Suit yourself.\n",
    "1. Yeah, what?\n",
    "1. I heed the call of nature.\n",
    "1. I don't think so.\n",
    "1. Good question, next.\n",
    "1. As much as Google and Wikipedia do.\n",
    "1. Preparing for today."
   ]
  },
  {
   "cell_type": "markdown",
   "metadata": {},
   "source": [
    "### 7\n",
    "\n",
    "Interview a candidate for the position of web designer.\n",
    "\n",
    "Can you flip a binary tree left to right?"
   ]
  },
  {
   "cell_type": "markdown",
   "metadata": {},
   "source": [
    "# 1.3 Reading Test: Introduction and Part One"
   ]
  },
  {
   "cell_type": "markdown",
   "metadata": {},
   "source": [
    "### 1\n",
    "\n",
    "It's sometimes effective and beneficial to put interviewees under certain level of pressure to test their proficiency in handling and solving problems."
   ]
  },
  {
   "cell_type": "markdown",
   "metadata": {},
   "source": [
    "### 2\n",
    "\n",
    "1. C\n",
    "1. C\n",
    "1. E\n",
    "1. A\n",
    "1. B\n",
    "1. D\n",
    "1. A\n",
    "1. E\n",
    "\n",
    "Well done."
   ]
  }
 ],
 "metadata": {
  "kernelspec": {
   "display_name": "Python 3",
   "language": "python",
   "name": "python3"
  },
  "language_info": {
   "codemirror_mode": {
    "name": "ipython",
    "version": 3
   },
   "file_extension": ".py",
   "mimetype": "text/x-python",
   "name": "python",
   "nbconvert_exporter": "python",
   "pygments_lexer": "ipython3",
   "version": "3.6.3"
  }
 },
 "nbformat": 4,
 "nbformat_minor": 2
}
